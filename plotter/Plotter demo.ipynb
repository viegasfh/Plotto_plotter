{
 "cells": [
  {
   "cell_type": "code",
   "execution_count": 1,
   "metadata": {},
   "outputs": [],
   "source": [
    "import random \n",
    "from core import *\n",
    "random.seed(111)"
   ]
  },
  {
   "cell_type": "markdown",
   "metadata": {},
   "source": [
    "## Initialize a story"
   ]
  },
  {
   "cell_type": "code",
   "execution_count": 2,
   "metadata": {},
   "outputs": [
    {
     "name": "stdout",
     "output_type": "stream",
     "text": [
      "Demo story\n",
      "\n",
      "A Normal Person, becoming aware of an important secret that calls for decisive action, undertakes a role that leads straight to catastrophe., \b\b\n",
      "\n",
      "\n",
      " (0) B finds an old notebook, X, which contains the record of a dishonest transaction. B finds an old note book X, which contains information that has an important bearing on some of her plans.\n"
     ]
    }
   ],
   "source": [
    "storyline = Storyline(soup, {}, \"Demo story\")\n",
    "[storyline.get_clause(letter) for letter in [\"A\", \"B\", \"C\"]]\n",
    "\n",
    "# get the first conflict piece\n",
    "storyline.expand_story(steps=1)\n",
    "\n",
    "storyline.print_story(index=True)"
   ]
  },
  {
   "cell_type": "markdown",
   "metadata": {},
   "source": [
    "## Expand story"
   ]
  },
  {
   "cell_type": "markdown",
   "metadata": {},
   "source": [
    "### Expand it forward"
   ]
  },
  {
   "cell_type": "code",
   "execution_count": 3,
   "metadata": {},
   "outputs": [
    {
     "name": "stdout",
     "output_type": "stream",
     "text": [
      "Demo story\n",
      "\n",
      "A Normal Person, becoming aware of an important secret that calls for decisive action, undertakes a role that leads straight to catastrophe., \b\b\n",
      "\n",
      "\n",
      "B finds an old notebook, X, which contains the record of a dishonest transaction. B finds an old note book X, which contains information that has an important bearing on some of her plans.\n",
      "B, in order to forward a certain enterprise, assumes a fictitious name and secures the position of private secretary to A.\n"
     ]
    }
   ],
   "source": [
    "storyline.expand_story(steps=\"+\")\n",
    "\n",
    "storyline.print_story()"
   ]
  },
  {
   "cell_type": "markdown",
   "metadata": {},
   "source": [
    "### Expand backwards"
   ]
  },
  {
   "cell_type": "code",
   "execution_count": 4,
   "metadata": {},
   "outputs": [
    {
     "name": "stdout",
     "output_type": "stream",
     "text": [
      "Demo story\n",
      "\n",
      "A Normal Person, becoming aware of an important secret that calls for decisive action, undertakes a role that leads straight to catastrophe., \b\b\n",
      "\n",
      "\n",
      " (0) A, a crook, is trying to “go straight”. A, a crook trying to “go straight,” is compelled by A-5, the leader of his old gang, to take part in a criminal enterprise.\n",
      " (1) A, a prospector, discovers gold. A, a prospector, makes a rich “strike”. Of right he should share his discovery with his partner, A-2, but decides to exploit his discovery for himself alone.\n",
      " (2) B finds an old notebook, X, which contains the record of a dishonest transaction. B finds an old note book X, which contains information that has an important bearing on some of her plans.\n",
      " (3) B, in order to forward a certain enterprise, assumes a fictitious name and secures the position of private secretary to A.\n"
     ]
    }
   ],
   "source": [
    "storyline.expand_story(steps=-2)\n",
    "storyline.print_story(index=True)"
   ]
  },
  {
   "cell_type": "markdown",
   "metadata": {},
   "source": [
    "### Name thy characters"
   ]
  },
  {
   "cell_type": "code",
   "execution_count": 5,
   "metadata": {},
   "outputs": [
    {
     "name": "stdout",
     "output_type": "stream",
     "text": [
      "Demo story\n",
      "\n",
      "A Normal Person, becoming aware of an important secret that calls for decisive action, undertakes a role that leads straight to catastrophe., \b\b\n",
      "\n",
      "\n",
      " (0) Aladdin, a crook, is trying to “go straight”. Aladdin, a crook trying to “go straight,” is compelled by Charlie, the leader of his old gang, to take part in a criminal enterprise.\n",
      " (1) Aladdin, a prospector, discovers gold. Aladdin, a prospector, makes a rich “strike”. Of right he should share his discovery with his partner, Bob, but decides to exploit his discovery for himself alone.\n",
      " (2) Ophelia finds an old notebook, X, which contains the record of a dishonest transaction. Ophelia finds an old note book X, which contains information that has an important bearing on some of her plans.\n",
      " (3) Ophelia, in order to forward a certain enterprise, assumes a fictitious name and secures the position of private secretary to Aladdin.\n"
     ]
    }
   ],
   "source": [
    "storyline.characters = {\"A\":\"Aladdin\",\"B\":\"Ophelia\",\"A-5\":\"Charlie\",\"A-2\":\"Bob\"}\n",
    "storyline.print_story(index=True)"
   ]
  },
  {
   "cell_type": "markdown",
   "metadata": {},
   "source": [
    "### Cherry-pick a conflict"
   ]
  },
  {
   "cell_type": "code",
   "execution_count": 6,
   "metadata": {},
   "outputs": [
    {
     "data": {
      "text/plain": [
       "'A, unmarried, falls in love with married B; B’s husband, A-8, will not divorce B, nor will she divorce him.'"
      ]
     },
     "execution_count": 6,
     "metadata": {},
     "output_type": "execute_result"
    }
   ],
   "source": [
    "Conflict(soup, \"120\", [],{},{}).plain_text\n"
   ]
  },
  {
   "cell_type": "markdown",
   "metadata": {},
   "source": [
    "### Turn A-8 to A-5 and insert the conflict into the story"
   ]
  },
  {
   "cell_type": "code",
   "execution_count": 7,
   "metadata": {},
   "outputs": [
    {
     "name": "stdout",
     "output_type": "stream",
     "text": [
      "Demo story\n",
      "\n",
      "A Normal Person, becoming aware of an important secret that calls for decisive action, undertakes a role that leads straight to catastrophe., \b\b\n",
      "\n",
      "\n",
      " (0) Aladdin, a crook, is trying to “go straight”. Aladdin, a crook trying to “go straight,” is compelled by Charlie, the leader of his old gang, to take part in a criminal enterprise.\n",
      " (1) Aladdin, a prospector, discovers gold. Aladdin, a prospector, makes a rich “strike”. Of right he should share his discovery with his partner, Bob, but decides to exploit his discovery for himself alone.\n",
      " (2) Ophelia finds an old notebook, X, which contains the record of a dishonest transaction. Ophelia finds an old note book X, which contains information that has an important bearing on some of her plans.\n",
      " (3) Ophelia, in order to forward a certain enterprise, assumes a fictitious name and secures the position of private secretary to Aladdin.\n",
      " (4) Aladdin, unmarried, falls in love with married Ophelia; Ophelia’s husband, Charlie, will not divorce Ophelia, nor will she divorce him.\n"
     ]
    }
   ],
   "source": [
    "storyline.expand_story(conflict_ids = \"120\") \n",
    "storyline.story[-1].modify_transforms(\"A-8\",\"A-5\") # we added a conflict at the end, that is, at position -1\n",
    "storyline.print_story(index=True)"
   ]
  },
  {
   "cell_type": "markdown",
   "metadata": {},
   "source": [
    "#### Let's put a little more meat between the gold and the notebook\n"
   ]
  },
  {
   "cell_type": "code",
   "execution_count": 8,
   "metadata": {},
   "outputs": [
    {
     "name": "stdout",
     "output_type": "stream",
     "text": [
      "Demo story\n",
      "\n",
      "A Normal Person, becoming aware of an important secret that calls for decisive action, undertakes a role that leads straight to catastrophe., \b\b\n",
      "\n",
      "\n",
      " (0) Aladdin, a crook, is trying to “go straight”. Aladdin, a crook trying to “go straight,” is compelled by Charlie, the leader of his old gang, to take part in a criminal enterprise.\n",
      " (1) Aladdin, a prospector, discovers gold. Aladdin, a prospector, makes a rich “strike”. Of right he should share his discovery with his partner, Bob, but decides to exploit his discovery for himself alone.\n",
      " (2) Aladdin attempts to deceive his friend, Bob, thinking to profit by the deception, but fails. Aladdin’s friend, Bob, reaps a rich reward from a discovery he has made and offers to share with Aladdin; but Aladdin, knowing he is unworthy of such generosity, refuses it.\n",
      " (3) Ophelia finds an old notebook, X, which contains the record of a dishonest transaction. Ophelia finds an old note book X, which contains information that has an important bearing on some of her plans.\n",
      " (4) Ophelia, in order to forward a certain enterprise, assumes a fictitious name and secures the position of private secretary to Aladdin.\n",
      " (5) Aladdin, unmarried, falls in love with married Ophelia; Ophelia’s husband, Charlie, will not divorce Ophelia, nor will she divorce him.\n"
     ]
    }
   ],
   "source": [
    "storyline.expand_story(from_segment=1)\n",
    "storyline.print_story(index=True)"
   ]
  },
  {
   "cell_type": "markdown",
   "metadata": {},
   "source": [
    "### Ok, now it makes sense. Maybe the notebook contains information about the deception Aladdin wanted to bring about. Let's say Ophelia's enterprise is independent of the rest of existing story, and make her discovery a result, rather than the cause, of her becoming a secretary to Alladin"
   ]
  },
  {
   "cell_type": "code",
   "execution_count": 9,
   "metadata": {},
   "outputs": [
    {
     "name": "stdout",
     "output_type": "stream",
     "text": [
      "Demo story\n",
      "\n",
      "A Normal Person, becoming aware of an important secret that calls for decisive action, undertakes a role that leads straight to catastrophe., \b\b\n",
      "\n",
      "\n",
      " (0) Aladdin, a crook, is trying to “go straight”. Aladdin, a crook trying to “go straight,” is compelled by Charlie, the leader of his old gang, to take part in a criminal enterprise.\n",
      " (1) Aladdin, a prospector, discovers gold. Aladdin, a prospector, makes a rich “strike”. Of right he should share his discovery with his partner, Bob, but decides to exploit his discovery for himself alone.\n",
      " (2) Aladdin attempts to deceive his friend, Bob, thinking to profit by the deception, but fails. Aladdin’s friend, Bob, reaps a rich reward from a discovery he has made and offers to share with Aladdin; but Aladdin, knowing he is unworthy of such generosity, refuses it.\n",
      " (3) Ophelia, in order to forward a certain enterprise, assumes a fictitious name and secures the position of private secretary to Aladdin.\n",
      " (4) Ophelia finds an old notebook, X, which contains the record of a dishonest transaction. Ophelia finds an old note book X, which contains information that has an important bearing on some of her plans.\n",
      " (5) Aladdin, unmarried, falls in love with married Ophelia; Ophelia’s husband, Charlie, will not divorce Ophelia, nor will she divorce him.\n"
     ]
    }
   ],
   "source": [
    "storyline.switch_segment_places(3,4)\n",
    "storyline.print_story(index=True)\n"
   ]
  },
  {
   "cell_type": "markdown",
   "metadata": {},
   "source": [
    "### Aladdin is not a prespector. Let's say it was a house robbery. "
   ]
  },
  {
   "cell_type": "code",
   "execution_count": 10,
   "metadata": {},
   "outputs": [
    {
     "name": "stdout",
     "output_type": "stream",
     "text": [
      "Demo story\n",
      "\n",
      "A Normal Person, becoming aware of an important secret that calls for decisive action, undertakes a role that leads straight to catastrophe., \b\b\n",
      "\n",
      "\n",
      " (0) Aladdin, a crook, is trying to “go straight”. Aladdin, a crook trying to “go straight,” is compelled by Charlie, the leader of his old gang, to take part in a criminal enterprise.\n",
      " (1) Aladdin, a robber, discovers gold. Aladdin, a robber, makes a rich “strike”. Of right he should share his discovery with his partner, Bob, but decides to exploit his discovery for himself alone.\n",
      " (2) Aladdin attempts to deceive his friend, Bob, thinking to profit by the deception, but fails. Aladdin’s friend, Bob, reaps a rich reward from a discovery he has made and offers to share with Aladdin; but Aladdin, knowing he is unworthy of such generosity, refuses it.\n",
      " (3) Ophelia, in order to forward a certain enterprise, assumes a fictitious name and secures the position of private secretary to Aladdin.\n",
      " (4) Ophelia finds an old notebook, X, which contains the record of a dishonest transaction. Ophelia finds an old note book X, which contains information that has an important bearing on some of her plans.\n",
      " (5) Aladdin, unmarried, falls in love with married Ophelia; Ophelia’s husband, Charlie, will not divorce Ophelia, nor will she divorce him.\n",
      " (6) Aladdin and Ophelia are in love; but certain unhappy conditions prevent the cherished culmination of their romance.\n",
      " (7) Ophelia, married to A-3, supposes A-3 is dead and marries Aladdin. A-3, supposed to be dead, returns mysteriously as from the grave. A-3 seeks to force Ophelia to give up Aladdin. the man she has married.\n",
      " (8) A-3, missing and supposed to be dead, returns secretly and finds his wife, Ophelia, married to Aladdin. A-3, discovering that his wife, Ophelia, dearly loves Aladdin, whom she has married thinking A-3 to be dead, secretly goes away and takes himself out of her life.\n",
      " (9) A undergoes a tragic experience which results in a beneficial character change.\n"
     ]
    }
   ],
   "source": [
    "storyline.story[1].edit_plain_text(\"prospector\", \"robber\")\n",
    "# And perhaps reach something that feels more final:\n",
    "storyline.expand_story(steps=4)\n",
    "storyline.print_story(index=True)"
   ]
  },
  {
   "cell_type": "markdown",
   "metadata": {},
   "source": [
    "### We were dealt some bad cards; let's try again"
   ]
  },
  {
   "cell_type": "code",
   "execution_count": 11,
   "metadata": {},
   "outputs": [
    {
     "name": "stdout",
     "output_type": "stream",
     "text": [
      "Demo story\n",
      "\n",
      "A Normal Person, becoming aware of an important secret that calls for decisive action, undertakes a role that leads straight to catastrophe., \b\b\n",
      "\n",
      "\n",
      " (0) Aladdin, a crook, is trying to “go straight”. Aladdin, a crook trying to “go straight,” is compelled by Charlie, the leader of his old gang, to take part in a criminal enterprise.\n",
      " (1) Aladdin, a robber, discovers gold. Aladdin, a robber, makes a rich “strike”. Of right he should share his discovery with his partner, Bob, but decides to exploit his discovery for himself alone.\n",
      " (2) Aladdin attempts to deceive his friend, Bob, thinking to profit by the deception, but fails. Aladdin’s friend, Bob, reaps a rich reward from a discovery he has made and offers to share with Aladdin; but Aladdin, knowing he is unworthy of such generosity, refuses it.\n",
      " (3) Ophelia, in order to forward a certain enterprise, assumes a fictitious name and secures the position of private secretary to Aladdin.\n",
      " (4) Ophelia finds an old notebook, X, which contains the record of a dishonest transaction. Ophelia finds an old note book X, which contains information that has an important bearing on some of her plans.\n",
      " (5) Aladdin, unmarried, falls in love with married Ophelia; Ophelia’s husband, Charlie, will not divorce Ophelia, nor will she divorce him.\n",
      " (6) Aladdin and Ophelia are in love; but certain unhappy conditions prevent the cherished culmination of their romance.\n",
      " (7) Ophelia, married to A-3, supposes A-3 is dead and marries Aladdin. A-3, supposed to be dead, returns mysteriously as from the grave. A-3 seeks to force Ophelia to give up Aladdin. the man she has married.\n",
      " (8) A-3, missing and supposed to be dead, returns secretly and finds his wife, Ophelia, married to Aladdin. A-3, discovering that his wife, Ophelia, dearly loves Aladdin, whom she has married thinking A-3 to be dead, secretly goes away and takes himself out of her life.\n",
      " (9) A-3, suffering misfortune, seeks happiness in the companionship of Bob and in playing golf.\n",
      " (10) A-3 carries out honorably the heart-breaking obligation of killing his friend, Bob, hopelessly ill and tortured with suffering. Bob begs relief at A-3’s hands as an act of mercy. Bob is the brother of Ophelia, who is very dear to A-3.\n"
     ]
    }
   ],
   "source": [
    "storyline.remove_segment(7,-1) # delete from segment 7 until the end\n",
    "storyline.expand_story(steps=4)\n",
    "storyline.print_story(index=True)"
   ]
  },
  {
   "cell_type": "markdown",
   "metadata": {},
   "source": [
    "### Ok, we'll resign ourselves to Ophelia being the wife of A-3. Now that she is the sister of Bob, her acquaintance with Aladdin is explained. Let's make the corrections and wrap it up"
   ]
  },
  {
   "cell_type": "code",
   "execution_count": 12,
   "metadata": {},
   "outputs": [
    {
     "name": "stdout",
     "output_type": "stream",
     "text": [
      "Demo story\n",
      "\n",
      "A Normal Person, becoming aware of an important secret that calls for decisive action, undertakes a role that leads straight to catastrophe., \b\b\n",
      "\n",
      "\n",
      "Aladdin, a crook, is trying to “go straight”. Aladdin, a crook trying to “go straight,” is compelled by Charlie, the leader of his old gang, to take part in a criminal enterprise.\n",
      "Aladdin, a robber, discovers gold. Aladdin, a robber, makes a rich “strike”. Of right he should share his discovery with his partner, Bob, but decides to exploit his discovery for himself alone.\n",
      "Aladdin attempts to deceive his friend, Bob, thinking to profit by the deception, but fails. Aladdin’s friend, Bob, reaps a rich reward from a discovery he has made and offers to share with Aladdin; but Aladdin, knowing he is unworthy of such generosity, refuses it.\n",
      "Ophelia, in order to forward a certain enterprise, assumes a fictitious name and secures the position of private secretary to Aladdin.\n",
      "Ophelia finds an old notebook, X, which contains the record of a dishonest transaction. Ophelia finds an old note book X, which contains information that has an important bearing on some of her plans.\n",
      "Aladdin, unmarried, falls in love with married Ophelia; Ophelia’s husband, Hamelet, will not divorce Ophelia, nor will she divorce him.\n",
      "Aladdin and Ophelia are in love; but certain unhappy conditions prevent the cherished culmination of their romance.\n",
      "Ophelia, married to Hamelet, supposes Hamelet is dead and marries Aladdin. Hamelet, supposed to be dead, returns mysteriously as from the grave. Hamelet seeks to force Ophelia to give up Aladdin. the man she has married.\n",
      "Hamelet, missing and supposed to be dead, returns secretly and finds his wife, Ophelia, married to Aladdin. Hamelet, discovering that his wife, Ophelia, dearly loves Aladdin, whom she has married thinking Hamelet to be dead, secretly goes away and takes himself out of her life.\n",
      "Hamelet, suffering misfortune, seeks happiness in the companionship of Bob and in playing golf.\n",
      "Hamelet carries out honorably the heart-breaking obligation of killing his friend, Bob, hopelessly ill and tortured with suffering. Bob begs relief at Hamelet’s hands as an act of mercy. Bob is the brother of Ophelia, who is very dear to Hamelet.\n"
     ]
    }
   ],
   "source": [
    "storyline.story[5].modify_transforms(\"A-8\",\"A-3\")\n",
    "storyline.add_character(\"A-3\",\"Hamelet\")\n",
    "storyline.characters[\"A-2\"] = \"Laertes\" # instead of Bob\n",
    "storyline.print_story()\n"
   ]
  }
 ],
 "metadata": {
  "kernelspec": {
   "display_name": "Python 3",
   "language": "python",
   "name": "python3"
  },
  "language_info": {
   "codemirror_mode": {
    "name": "ipython",
    "version": 3
   },
   "file_extension": ".py",
   "mimetype": "text/x-python",
   "name": "python",
   "nbconvert_exporter": "python",
   "pygments_lexer": "ipython3",
   "version": "3.4.5"
  }
 },
 "nbformat": 4,
 "nbformat_minor": 2
}
