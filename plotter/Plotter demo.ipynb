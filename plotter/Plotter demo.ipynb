{
 "cells": [
  {
   "cell_type": "code",
   "execution_count": 1,
   "metadata": {
    "collapsed": true
   },
   "outputs": [],
   "source": [
    "import random \n",
    "from plotter import *\n",
    "random.seed(1111)"
   ]
  },
  {
   "cell_type": "markdown",
   "metadata": {},
   "source": [
    "# check wheter character subsititiotn works when going backwards (and/or with negative steps)"
   ]
  },
  {
   "cell_type": "code",
   "execution_count": 9,
   "metadata": {},
   "outputs": [
    {
     "name": "stdout",
     "output_type": "stream",
     "text": [
      "My story\n",
      "\n",
      "A Person Swayed by Pretense, becoming involved in a love affair that encounters unforeseen obstacles, achieves a spiritual victory., \b\b\n",
      "\n",
      "\n",
      " (0) A’s profession is a hazardous one—aviator, automobile racing driver, steeple jack. “human fly”—and B considers this fact an obstacle to their marriage.\n"
     ]
    }
   ],
   "source": [
    "storyline = Storyline(soup, {}, \"My story\")\n",
    "[storyline.get_clause(letter) for letter in [\"A\", \"B\", \"C\"]]\n",
    "\n",
    "storyline.expand_story(steps=1)\n",
    "\n",
    "storyline.print_story(index=True)"
   ]
  },
  {
   "cell_type": "code",
   "execution_count": 11,
   "metadata": {},
   "outputs": [
    {
     "name": "stdout",
     "output_type": "stream",
     "text": [
      "My story\n",
      "\n",
      "A Person Swayed by Pretense, becoming involved in a love affair that encounters unforeseen obstacles, achieves a spiritual victory., \b\b\n",
      "\n",
      "\n",
      " (0) A and A-3, in love with B, are persuaded by capricious B to undertake a dangerous enterprise to prove their love.\n",
      " (1) A’s profession is a hazardous one—aviator, automobile racing driver, steeple jack. “human fly”—and B considers this fact an obstacle to their marriage.\n",
      " (2) A and A-3, in love with B, are persuaded by capricious B to undertake a dangerous enterprise to prove their love.\n"
     ]
    }
   ],
   "source": [
    "#storyline.expand_story(steps=\"+\", conflict_ids=[\"78\",\"79\",\"80a\"])\n",
    "#storyline.expand_story(steps=\"+\", conflict_ids=[\"78\",\"79\",\"80a\"])\n",
    "storyline.expand_story(steps=\"-\", conflict_ids=\"78\")\n",
    "storyline.print_story(index=True)"
   ]
  },
  {
   "cell_type": "code",
   "execution_count": 5,
   "metadata": {},
   "outputs": [
    {
     "name": "stdout",
     "output_type": "stream",
     "text": [
      "My story\n",
      "\n",
      "An Erring Person, seeking by craftiness to escape misfortune, makes the supreme sacrifice in carrying out an undertaking., \b\b\n",
      "\n",
      "\n",
      " (0) A’s lofty aim is to be a benefactor of mankind. A, trying to realize his ideal of being a benefactor of mankind, meets with a disturbing experience.\n",
      " (1) A, in order to ensure the happiness of B whom he loves devotedly and who, he thinks, loves his rival, A-3 , fiees secretly so it may appear that he, and not A-3, committed a certain transgression.\n",
      " (2) A’s rival in love, A-3, pretends to be A’s friend in order to lure him into an undertaking in which he will lose his reputation or his life.\n",
      " (3) A and A-3, in love with B, are persuaded by capricious B to undertake a dangerous enterprise to prove their love.\n",
      " (4) A is aware that A-8 knows too much for his (A’s) good. A gives A-8 money with which to take himself out of the country.\n",
      " (5) A and A-3, in love with B, are persuaded by capricious B to undertake a dangerous enterprise to prove their love.\n",
      " (6) A’s rival in love, A-3, pretends to be A’s friend in order to lure him into an undertaking in which he will lose his reputation or his life.\n",
      " (7) A, in order to ensure the happiness of B whom he loves devotedly and who, he thinks, loves his rival, A-3 , fiees secretly so it may appear that he, and not A-3, committed a certain transgression.\n",
      " (8) A, in love with B, seeks to save B, by secret enterprise and at any cost from threatening misfortune.\n"
     ]
    }
   ],
   "source": [
    "storyline.expand_story(steps=\"+\")\n",
    "storyline.expand_story(steps=\"-\")\n",
    "storyline.print_story(index=True)"
   ]
  },
  {
   "cell_type": "code",
   "execution_count": 8,
   "metadata": {},
   "outputs": [
    {
     "name": "stdout",
     "output_type": "stream",
     "text": [
      "My story\n",
      "\n",
      "An Erring Person, seeking by craftiness to escape misfortune, makes the supreme sacrifice in carrying out an undertaking., \b\b\n",
      "\n",
      "\n",
      " (0) A, happy and optimistic, undergoes a critical illness which makes of him a morbid, melancholy, superstitious pessimist.\n",
      " (1) A is a crabbed, disagreeable person whose misfortune it is to find no pleasure in life.\n",
      " (2) A, through erring imagination, becomes discontented with his life and surroundings. A, discontented, in a spirit of revolt seeks to achieve contentment.\n",
      " (3) A’s lofty aim is to be a benefactor of mankind. A, trying to realize his ideal of being a benefactor of mankind, meets with a disturbing experience.\n",
      " (4) A, in order to ensure the happiness of B whom he loves devotedly and who, he thinks, loves his rival, A-3 , fiees secretly so it may appear that he, and not A-3, committed a certain transgression.\n",
      " (5) A’s rival in love, A-3, pretends to be A’s friend in order to lure him into an undertaking in which he will lose his reputation or his life.\n",
      " (6) A and A-3, in love with B, are persuaded by capricious B to undertake a dangerous enterprise to prove their love.\n",
      " (7) A is aware that A-8 knows too much for his (A’s) good. A gives A-8 money with which to take himself out of the country.\n",
      " (8) A and A-3, in love with B, are persuaded by capricious B to undertake a dangerous enterprise to prove their love.\n",
      " (9) A’s rival in love, A-3, pretends to be A’s friend in order to lure him into an undertaking in which he will lose his reputation or his life.\n",
      " (10) A, in order to ensure the happiness of B whom he loves devotedly and who, he thinks, loves his rival, A-3 , fiees secretly so it may appear that he, and not A-3, committed a certain transgression.\n",
      " (11) A, in love with B, seeks to save B, by secret enterprise and at any cost from threatening misfortune.\n",
      " (12) A and A-3 are in love with B. B is about to marry A-3, whom A knows to be a crook. A induces his rival in love, A-3, to send B a certain gift, X; then, after X is sent. A proves that it was stolen by A-3.\n",
      " (13) B, discovering the perfidious nature of A-3, the man she has promised to marry, turns from him to accept A, by whose shrewdness A-3 was unmasked.\n",
      " (14) B doubts A when he tells her he loves her; then, having convinced herself of A’s love , B accepts A and they are married.\n"
     ]
    }
   ],
   "source": [
    "storyline.expand_story(steps=0)\n",
    "storyline.expand_story(steps=-0)\n",
    "storyline.print_story(index=True)"
   ]
  },
  {
   "cell_type": "code",
   "execution_count": 29,
   "metadata": {},
   "outputs": [
    {
     "name": "stdout",
     "output_type": "stream",
     "text": [
      "My story\n",
      "\n",
      "A Subtle Person, becoming aware of an important secret that calls for decisive action, undertakes a role that leads straight to catastrophe., \b\b\n",
      "\n",
      "\n",
      " (0) A fears he has inherited the evil traits of an ancestor. A, because he fears he has inherited the evil traits of an ancestor, dares not ask B, the woman he loves, to marry him.\n",
      " (1) A, in love with B and engaged to marry her, has almost wrecked his life with dissipation and feels that he should give B up.\n",
      " (2) A, seeking to uphold a lofty conception of duty, secretly abandons B , a woman whom he loves dearly.\n",
      " (3) A’s enemy, Peter Parker, is captain of a ship on which A has taken passage, and on which B is a stowaway. Peter Parker, knowing a secret of A’s, compels A to marry B, Peter Parker performing the ceremony.\n",
      " (4) A and B, devotedly in love with each other, through failure to understand each other’s ideals , develop an incompatability which results in frequent quarrels.\n",
      " (5) B’s husband, A, loves her devotedly. A is of a parsimonious nature and gives B little money.\n",
      " (6) A is a selfish person, constantly looking out for “Number One”. A, selfish and miserly, finds that his methods are mistaken and that he is making no progress towards happiness.\n",
      " (7) A looks upon others as people to be exploited. A, grasping and relentless, and sparing no one in his greed for gain, encounters an experience which transforms his character.\n",
      " (8) A’s love is rejected by B because, as she frankly tells him. he is hard-hearted and has made money his god. B advises A to go away somewhere and try to develop the generous side of his character.\n",
      " (9) A, his love rejected by B-3, goes to a distant part of the country and meets B . A falls in love with B. B-3, filled with remorse because she rejected A’s love, goes searching for him, finds him, and is informed by him that he is presently to marry B.\n",
      " (10) A and B, devotedly in love with each other, through failure to understand each other’s ideals , develop an incompatability which results in frequent quarrels.\n",
      " (11) B’s husband, A, is a poor man. B loves jewels and fine clothes which her husband, A, is unable to give her.\n",
      " (12) B seeks by secret enterprise to be free of A, her husband who is poor, in order that she may marry wealthy Peter Parker.\n",
      " (13) A’s wife, B, is loved by Peter Parker. Peter Parker seeks craftily to win B, the wife of A.\n",
      " (14) B, wife of A, secretly borrows money from her old lover, Peter Parker, for a certain purpose. Peter Parker seeks to use his power over B to advance his own selfish aims.\n",
      " (15) Peter Parker is a “man of the world,” relentlessly looking out for “Number One” and having little regard for others.\n",
      " (16) Peter Parker’s chauffeur, Kingpin, driving Peter Parker’s car by Peter Parker’s orders at a high rate of speed, apparently injures a pedestrian, A-8. Peter Parker, when his car apparently injures a pedestrian, seeks to evade legal consequences by having his chauffeur, Kingpin, drive on at speed.\n",
      " (17) Peter Parker flees to escape the consequences of a crime. Peter Parker believes he is guilty of a crime, but no crime has been committed.\n",
      " (18) Peter Parker considers himself a transgressor until he discovers that his supposed transgression was never committed.\n",
      " (19) Peter Parker, although not really a criminal, has become convinced that he is one. Peter Parker conceals his identity, avoids people, and leads a furtive, hermit-like existence.\n",
      " (20) B has a weird delusion regarding her son, SN. B considers her son, SN, brilliant and highly talented, whereas he is less than mediocre in mentality.\n",
      " (21) Peter Parker is a youth who, sheltered from the world and pampered by doting parents, has no true conception of life and no ability to face its rugged issues. Peter Parker, callow and inefficient, learns some real truths through hard experience.\n",
      " (22) Peter Parker allows himself to be blackmailed by Kingpin, because he is convinced that he unintentionally committed a crime. Peter Parker, supposing himself a criminal, discovers that no crime has been committed.\n",
      " (23) Peter Parker, by shrewd deduction and skillful reasoning, proves that Kingpin is a criminal.\n"
     ]
    }
   ],
   "source": [
    "storyline.add_character(\"A\", \"Peter Parker\")\n",
    "storyline.print_story(index=True)"
   ]
  },
  {
   "cell_type": "code",
   "execution_count": 24,
   "metadata": {},
   "outputs": [
    {
     "name": "stdout",
     "output_type": "stream",
     "text": [
      "My story\n",
      "\n",
      "A Subtle Person, becoming aware of an important secret that calls for decisive action, undertakes a role that leads straight to catastrophe., \b\b\n",
      "\n",
      "\n",
      " (0) A fears he has inherited the evil traits of an ancestor. A, because he fears he has inherited the evil traits of an ancestor, dares not ask B, the woman he loves, to marry him.\n",
      " (1) A, in love with B and engaged to marry her, has almost wrecked his life with dissipation and feels that he should give B up.\n",
      " (2) A, seeking to uphold a lofty conception of duty, secretly abandons B , a woman whom he loves dearly.\n",
      " (3) A’s enemy, A-3, is captain of a ship on which A has taken passage, and on which B is a stowaway. A-3, knowing a secret of A’s, compels A to marry B, A-3 performing the ceremony.\n",
      " (4) A and B, devotedly in love with each other, through failure to understand each other’s ideals , develop an incompatability which results in frequent quarrels.\n",
      " (5) B’s husband, A, loves her devotedly. A is of a parsimonious nature and gives B little money.\n",
      " (6) A is a selfish person, constantly looking out for “Number One”. A, selfish and miserly, finds that his methods are mistaken and that he is making no progress towards happiness.\n",
      " (7) A looks upon others as people to be exploited. A, grasping and relentless, and sparing no one in his greed for gain, encounters an experience which transforms his character.\n",
      " (8) A’s love is rejected by B because, as she frankly tells him. he is hard-hearted and has made money his god. B advises A to go away somewhere and try to develop the generous side of his character.\n",
      " (9) A, his love rejected by B-3, goes to a distant part of the country and meets B . A falls in love with B. B-3, filled with remorse because she rejected A’s love, goes searching for him, finds him, and is informed by him that he is presently to marry B.\n",
      " (10) A and B, devotedly in love with each other, through failure to understand each other’s ideals , develop an incompatability which results in frequent quarrels.\n",
      " (11) B’s husband, A, is a poor man. B loves jewels and fine clothes which her husband, A, is unable to give her.\n",
      " (12) B seeks by secret enterprise to be free of A, her husband who is poor, in order that she may marry wealthy A-3.\n",
      " (13) A’s wife, B, is loved by A-3. A-3 seeks craftily to win B, the wife of A.\n",
      " (14) B, wife of A, secretly borrows money from her old lover, A-3, for a certain purpose. A-3 seeks to use his power over B to advance his own selfish aims.\n",
      " (15) A is a “man of the world,” relentlessly looking out for “Number One” and having little regard for others.\n",
      " (16) A’s chauffeur, A-7, driving A’s car by A’s orders at a high rate of speed, apparently injures a pedestrian, A-8. A, when his car apparently injures a pedestrian, seeks to evade legal consequences by having his chauffeur, A-7, drive on at speed.\n",
      " (17) A flees to escape the consequences of a crime. A believes he is guilty of a crime, but no crime has been committed.\n",
      " (18) A considers himself a transgressor until he discovers that his supposed transgression was never committed.\n",
      " (19) A, although not really a criminal, has become convinced that he is one. A conceals his identity, avoids people, and leads a furtive, hermit-like existence.\n",
      " (20) A allows himself to be blackmailed by A-7, because he is convinced that he unintentionally committed a crime. A, supposing himself a criminal, discovers that no crime has been committed.\n",
      " (21) A, by shrewd deduction and skillful reasoning, proves that A-5 is a criminal.\n"
     ]
    }
   ],
   "source": [
    "storyline.expand_story(steps=-10)\n",
    "\n",
    "storyline.print_story(index=True)"
   ]
  },
  {
   "cell_type": "code",
   "execution_count": 6,
   "metadata": {},
   "outputs": [
    {
     "name": "stdout",
     "output_type": "stream",
     "text": [
      "My story\n",
      "\n",
      "An Erring Person, seeking by craftiness to escape misfortune, makes the supreme sacrifice in carrying out an undertaking., \b\b\n",
      "\n",
      "\n",
      "John is aware that A-8 knows too much for his (A’s) good. John gives A-8 money with which to take himself out of the country.\n",
      "John seeks craftily to keep the good opinion of the public. John closely guards an evil secret which, if known, would reflect upon his character and make impossible a cherished enterprise.\n",
      "John has committed a crime but has never fallen under suspicion. John’s guilty conscience handicaps him in the field of enterprise.\n",
      "John seeks to achieve emancipation from a fear which dogs his life, shows in his face and manner, and plunges him into misfortune.\n",
      "John, in a desperate mental conflict with a superstitious obsession, succeeds in scoring a victory for sense and reason—all by his own unaided powers.\n",
      "John has a violent distaste for ghost stories and stories of the supernatural. John pretends to be ill in order to avoid listening to ghost stories.\n",
      "John carries in his pocket a queer object of mystery, X. John, apparently as the result of carrying in his pocket a queer object of mystery, X, experiences all sorts of misfortunes.\n",
      "B, in order to help backward and unenterprising John achieve success, gives him a mysterious little object, X, which, she solemnly assures him, will make him successful in all his undertakings.\n",
      "John’s ignoble weakness is lack of courage in investigating events that have great news value; for John is a newspaper reporter, and news is his stock in trade. John, a coward, by deliberately forcing himself into risky situations in order to acquire first-hand information, develops courage, transforms his character, and becomes a “star” reporter.\n",
      "John seeks to discover what is in a mysterious room behind a locked door.\n",
      "John, while carrying out an enterprise of small importance, vanishes completely and mysteriously, baffling every attempt of the police and of his friends to find him.\n",
      "John mysteriously disappears from his own community; and. when he reappears among strangers, he bears a fictitious name. John, seeking to forward an enterprise which those who know him might consider absurd or unworthy, changes his name and goes secretly to a place where he is unknown.\n",
      "John has been mysteriously absent from his home for long years. John, for many years mysteriously absent from his home, seeks a happy renewal of old ties by returning suddenly and unheralded to his native place.\n",
      "John, a fugitive from justice with a price on his head, prevents B from committing suicide.\n",
      "B, trying to make a home for her widowed father, F-B, is neglected and cruelly treated by F-B.\n",
      "B becomes the victim of such desperate misfortunes that she plans to take her own life. B writes a letter explaining her reasons for committing suicide.\n",
      "John finds a motor stage wrecked and the U. S. mail it was carrying scattered from the broken pouches. The stage driver, A-4, has gone for help. John picks up a torn letter, reads it, and discovers that B is in misfortune. John, a fugitive from justice, seeks to rescue B from her misfortunes.\n",
      "John is an outlaw, hunted by the authorities and dodging about to escape capture. John, under ban of the law, runs the risk of capture in order to aid B , a stranger who is in critical misfortune.\n",
      "B, her integrity seriously compromised, finds a friend in John, a detective. John proves that B’s enemy, A-5, is a crook, and has him sent to prison.\n"
     ]
    }
   ],
   "source": [
    "storyline.add_character(\"A\", \"John\")\n",
    "storyline.print_story()"
   ]
  },
  {
   "cell_type": "code",
   "execution_count": 4,
   "metadata": {},
   "outputs": [
    {
     "name": "stdout",
     "output_type": "stream",
     "text": [
      "My story\n",
      "\n",
      "An Erring Person, seeking by craftiness to escape misfortune, makes the supreme sacrifice in carrying out an undertaking., \b\b\n",
      "\n",
      "\n",
      " (0) A’s wife, B, is loved by A-3. A-3 seeks craftily to win B, the wife of A.\n",
      " (1) A, in order to get A-8 into his power, craftily manoeuvers him heavily into debt. A hopes to secure A-8’s help in an undertaking by offering to free him from debt.\n",
      " (2) A is aware that A-8 knows too much for his (A’s) good. A gives A-8 money with which to take himself out of the country.\n",
      " (3) A seeks craftily to keep the good opinion of the public. A closely guards an evil secret which, if known, would reflect upon his character and make impossible a cherished enterprise.\n",
      " (4) A has committed a crime but has never fallen under suspicion. A’s guilty conscience handicaps him in the field of enterprise.\n",
      " (5) A seeks to achieve emancipation from a fear which dogs his life, shows in his face and manner, and plunges him into misfortune.\n",
      " (6) A, in a desperate mental conflict with a superstitious obsession, succeeds in scoring a victory for sense and reason—all by his own unaided powers.\n"
     ]
    }
   ],
   "source": [
    "storyline.expand_story(steps=-1)\n",
    "\n",
    "storyline.print_story(index=True)"
   ]
  },
  {
   "cell_type": "code",
   "execution_count": null,
   "metadata": {
    "collapsed": true
   },
   "outputs": [],
   "source": []
  },
  {
   "cell_type": "code",
   "execution_count": 3,
   "metadata": {},
   "outputs": [
    {
     "name": "stdout",
     "output_type": "stream",
     "text": [
      "My story\n",
      "\n",
      "An Erring Person, seeking by craftiness to escape misfortune, makes the supreme sacrifice in carrying out an undertaking., \b\b\n",
      "\n",
      "\n",
      " (0) A, deeply in love with his wife, B, is made defendant in divorce proceedings started by B.\n",
      " (1) A dearly loves his wife, B; and her love, which he does not possess, is necessary to his happiness.\n",
      " (2) B, wife of A, is shallow, foolish and faithless. B, married to A, flirts with an unmarried man, A-3.\n",
      " (3) A’s wife, B, is loved by A-3. A-3 seeks craftily to win B, the wife of A.\n",
      " (4) A, in order to get A-8 into his power, craftily manoeuvers him heavily into debt. A hopes to secure A-8’s help in an undertaking by offering to free him from debt.\n",
      " (5) A is aware that A-8 knows too much for his (A’s) good. A gives A-8 money with which to take himself out of the country.\n",
      " (6) A seeks craftily to keep the good opinion of the public. A closely guards an evil secret which, if known, would reflect upon his character and make impossible a cherished enterprise.\n",
      " (7) A has committed a crime but has never fallen under suspicion. A’s guilty conscience handicaps him in the field of enterprise.\n",
      " (8) A seeks to achieve emancipation from a fear which dogs his life, shows in his face and manner, and plunges him into misfortune.\n",
      " (9) A, in a desperate mental conflict with a superstitious obsession, succeeds in scoring a victory for sense and reason—all by his own unaided powers.\n"
     ]
    }
   ],
   "source": [
    "storyline.expand_story(steps=-5)\n",
    "\n",
    "storyline.print_story(index=True)"
   ]
  },
  {
   "cell_type": "code",
   "execution_count": 9,
   "metadata": {},
   "outputs": [
    {
     "name": "stdout",
     "output_type": "stream",
     "text": [
      "My story\n",
      "\n",
      "A Married Person, living a lonely, cheerless life and seeking companionship, meets with an experience whereby an error is corrected., \b\b\n",
      "\n",
      "\n",
      " (0) A seeks happiness in his love for a child, CH, but for certain reasons finds it difficult to realize his desire.\n",
      " (1) A has low ideals, but changes them abruptly for high ideals. A searches everywhere for a Good Man, whom he envisons and personifies, but who evades him.\n",
      " (2) A, a crook, is trying to “go straight”. A, a crook trying to “go straight,” is compelled by A-5. the leader of his old gang, to take part in a criminal enterprise.\n",
      " (3) A secretly discovers a delinquency A-4 wishes to conceal. A, secretly informed regarding a transgression A-4 wishes to conceal, threatens to inform the authorities unless A-4 does something A wants him to do.\n",
      " (4) A, a crook, is trying to “go straight”. A, a crook trying to “go straight,” is compelled by A-5. the leader of his old gang, to take part in a criminal enterprise.\n",
      " (5) A, robbed by A-5 and wishing to save him from the law, declares to A-6, the officer who has arrested A-5, that he gave A-5 the stolen property in his possession.\n",
      " (6) A undergoes a tragic experience which results in a beneficial character change.\n",
      " (7) A, of gentle birth and breeding, is isolated in a primitive, uninhabited wilderness, and compelled to battle with Nature for his very existence.\n",
      " (8) A, a morally superior person thrown into a savage environment, is conquered by moral inferiority in the person of B, a native girl.\n",
      " (9) A, seeking to uphold a lofty conception of duty, secretly abandons B , a woman whom he loves dearly. A’s enemy, A-3, as a means of persecution, by subtlity compels A to marry B.\n",
      " (10) A divorces his wife, B. B is devoted to A, and he owes much of his prosperity to her loyalty and shrewd advice.\n",
      " (11) A falls ill. A’s wife, B, from whom he is seeking a divorce, nurses him back to health.\n",
      " (12) A is seeking a divorce from B. A becomes reconciled with B when she nurses him through a serious illness.\n",
      " (13) B volunteers to nurse a sick person, A-8, when no one else will undertake the work. A-8 is ill of a disease that is contagious and deadly. B, nursing A-8, contracts a contagious disease and dies.\n",
      " (14) A, because of the death of his wife, B, suffers great sorrow and undergoes a character transformation.\n",
      " (15) A seeks to rebuild his life wasted in dissipation, along the lines of exemplary ideals. A, in carrying out a worthy enterprise, changes his name and goes to a place where he is unknown.\n",
      " (16) A, after a mysterious absence of many years, returns to his old home town. A, returning as an Unknown to his native place, discovers that no one recognizes him.\n"
     ]
    }
   ],
   "source": [
    "storyline.expand_story(steps=10)\n",
    "\n",
    "storyline.print_story(index=True)"
   ]
  },
  {
   "cell_type": "code",
   "execution_count": 12,
   "metadata": {},
   "outputs": [
    {
     "name": "stdout",
     "output_type": "stream",
     "text": [
      "My story\n",
      "\n",
      "A Married Person, living a lonely, cheerless life and seeking companionship, meets with an experience whereby an error is corrected., \b\b\n",
      "\n",
      "\n",
      "Spike seeks happiness in his love for a child, CH, but for certain reasons finds it difficult to realize his desire.\n",
      "Spike has low ideals, but changes them abruptly for high ideals. Spike searches everywhere for a Good Man, whom he envisons and personifies, but who evades him.\n",
      "Spike, a crook, is trying to “go straight”. Spike, a crook trying to “go straight,” is compelled by Vicious. the leader of his old gang, to take part in a criminal enterprise.\n",
      "Vicious secretly discovers a delinquency Spike wishes to conceal. Vicious, secretly informed regarding a transgression Spike wishes to conceal, threatens to inform the authorities unless Spike does something Vicious wants him to do.\n",
      "Spike, a crook, is trying to “go straight”. Spike, a crook trying to “go straight,” is compelled by Vicious. the leader of his old gang, to take part in a criminal enterprise.\n",
      "Spike, robbed by Vicious and wishing to save him from the law, declares to A-6, the officer who has arrested Vicious, that he gave Vicious the stolen property in his possession.\n",
      "Vicious undergoes a tragic experience which results in a beneficial character change.\n",
      "Vicious, of gentle birth and breeding, is isolated in a primitive, uninhabited wilderness, and compelled to battle with Nature for his very existence.\n",
      "Vicious, a morally superior person thrown into a savage environment, is conquered by moral inferiority in the person of B, a native girl.\n",
      "Vicious, seeking to uphold a lofty conception of duty, secretly abandons B , a woman whom he loves dearly. Vicious’s enemy, A-3, as a means of persecution, by subtlity compels Vicious to marry B.\n",
      "Vicious divorces his wife, B. B is devoted to Vicious, and he owes much of his prosperity to her loyalty and shrewd advice.\n",
      "Vicious falls ill. Vicious’s wife, B, from whom he is seeking a divorce, nurses him back to health.\n",
      "Vicious is seeking a divorce from B. Vicious becomes reconciled with B when she nurses him through a serious illness.\n",
      "B volunteers to nurse a sick person, Vicious, when no one else will undertake the work. Vicious is ill of a disease that is contagious and deadly. B, nursing Vicious, contracts a contagious disease and dies.\n",
      "Vicious, because of the death of his wife, B, suffers great sorrow and undergoes a character transformation.\n",
      "Vicious seeks to rebuild his life wasted in dissipation, along the lines of exemplary ideals. Vicious, in carrying out a worthy enterprise, changes his name and goes to a place where he is unknown.\n",
      "Vicious, after a mysterious absence of many years, returns to his old home town. Vicious, returning as an Unknown to his native place, discovers that no one recognizes him.\n"
     ]
    }
   ],
   "source": [
    "storyline.add_character(\"A\", \"Spike\")\n",
    "storyline.add_character(\"A-5\", \"Vicious\")\n",
    "storyline.print_story()"
   ]
  },
  {
   "cell_type": "code",
   "execution_count": 7,
   "metadata": {},
   "outputs": [
    {
     "name": "stdout",
     "output_type": "stream",
     "text": [
      "My story\n",
      "\n",
      "An Erring Person, seeking by craftiness to escape misfortune, makes the supreme sacrifice in carrying out an undertaking., \b\b\n",
      "\n",
      "\n",
      " (0) A’s wife, B, is loved by A-3. A-3 seeks craftily to win B, the wife of A.\n",
      " (1) A, in order to get A-8 into his power, craftily manoeuvers him heavily into debt. A hopes to secure A-8’s help in an undertaking by offering to free him from debt.\n",
      " (2) A is aware that A-8 knows too much for his (A’s) good. A gives A-8 money with which to take himself out of the country.\n",
      " (3) A seeks craftily to keep the good opinion of the public. A closely guards an evil secret which, if known, would reflect upon his character and make impossible a cherished enterprise.\n",
      " (4) A has committed a crime but has never fallen under suspicion. A’s guilty conscience handicaps him in the field of enterprise.\n",
      " (5) A seeks to achieve emancipation from a fear which dogs his life, shows in his face and manner, and plunges him into misfortune.\n",
      " (6) A, in a desperate mental conflict with a superstitious obsession, succeeds in scoring a victory for sense and reason—all by his own unaided powers.\n",
      " (7) A is influenced unduly by his dreams. A, influenced unduly by his dreams, strives to master the ignoble weakness and control his dreams by sheer force of will.\n",
      " (8) A’s friend, A-2, loses by theft a mysterious object, X, supposed to bring good fortune to its possessor, and A seeks to recover X for A-2. A finds the thief, A-5, by looking for a man who suddenly becomes prosperous. A-5, stealing X, is inspired by superstition to put forth efforts which make him prosperous.\n",
      " (9) A is a skeptic in all matters that have to do with the supernatural. A, a skeptic, encounters an experience which he finds disturbing.\n",
      " (10) A, staring at a certain object, X, falls under a spell which leads him to believe certain events are transpiring—events that are partly true but mostly grotesquely false Note:\n",
      " (11) A is sure that an occult experience he has had portends success in a certain enterprise. A is so sure of success in an enterprise that he puts forth no effort to win; and the enterprise fails.\n",
      " (12) A meets with unhappy experiences when he tries to help his friend, A-2, who has fallen into misfortune.\n",
      " (13) A, a judge, has a friend, A-2, brought before him for trial and sentence. A, a judge, presiding at the trial of his friend, A-2, so manipulates proceedings in favor of A-2 that A-2 is acquitted. A, a judge, proving false to his high duty, ever afterwards bears a “crooked” reputation.\n",
      " (14) A is a police magistrate with lofty humanitarian ideals. A, a police magistrate who wishes to know more of the private lives of those who are brought before him for judgment, disguises himself as a “bum” and plunges into the underworld.\n",
      " (15) A, in order to help his friend, A-2, puts aside his principles and engages in distasteful enterprise.\n",
      " (16) A, before the war, had a friend, A-2, who had rendered him a very great service. A-2, during the war, is captured as an enemy spy and brought before Captain A. Captain A allows an enemy spy, A-2, to escape, and ever afterward is regarded as a traitor to his country.\n",
      " (17) B realizes that her happiness and her duty lie in rehabilitating her character; in establishing, under an assumed name, an exemplary character and thus to make amends for a grievous wrong committed under her real name.\n",
      " (18) B commits a transgression. B, in order to escape the consequences of a transgression, flees secretly to a distant place and assumes a fictitious name.\n",
      " (19) B realizes that her happiness and her duty lie in rehabilitating her character; in establishing, under an assumed name, an exemplary character and thus to make amends for a grievous wrong committed under her real name.\n",
      " (20) B commits a transgression. B, in order to escape the consequences of a transgression, flees secretly to a distant place and assumes a fictitious name.\n",
      " (21) B realizes that her happiness and her duty lie in rehabilitating her character; in establishing, under an assumed name, an exemplary character and thus to make amends for a grievous wrong committed under her real name.\n",
      " (22) B, unmarried, falling in love with A, husband of B-3, is overcome with remorse. B flees from A and from the world to a solitary spot where she seeks to do penance and obtain a spiritual victory over her evil nature.\n",
      " (23) B, as the world regarded her, was a moral transgressor; but, in her own estimation, she was seeking the best and noblest in life. B, considered a moral transgressor, through her magnetic personality and the sincerity of her convictions, disarmed criticism in life and was praised by all after she died.\n",
      " (24) A, who has long cherished B in his heart as the loveliest and most perfect of her sex, returns home after a long absence and discovers that B has become an immoral character.\n",
      " (25) B, unworthy, wins the love of worthy A, and tense complications result.\n",
      " (26) B, unworthy, wins the love of worthy A; and B, by pretending to be worthy, presently achieves worthiness. —and a reward of married happiness.\n",
      " (27) B’s husband, A, has failed to return home and B is worried about him. B, thinking her husband A is in danger, plunges into danger herself on the chance of finding him and helping him.\n"
     ]
    }
   ],
   "source": [
    "storyline.expand_story(steps=10)\n",
    "\n",
    "storyline.print_story(index=True)"
   ]
  },
  {
   "cell_type": "code",
   "execution_count": 5,
   "metadata": {},
   "outputs": [
    {
     "name": "stdout",
     "output_type": "stream",
     "text": [
      "My story\n",
      "\n",
      "An Erring Person, seeking by craftiness to escape misfortune, makes the supreme sacrifice in carrying out an undertaking., \b\b\n",
      "\n",
      "\n",
      " (0) A is aware that A-8 knows too much for his (A’s) good. A gives A-8 money with which to take himself out of the country.\n",
      " (1) A seeks craftily to keep the good opinion of the public. A closely guards an evil secret which, if known, would reflect upon his character and make impossible a cherished enterprise.\n",
      " (2) A, a man of high standing in his community, fears that through unusual conditions his character will be discredited. A seeks to safeguard his reputation, which is threatened by unusual conditions.\n",
      " (3) A, a minister of the gospel, errs secretly on his human side and commits a moral transgression. A, highly placed and universally respected, protects his reputation by keeping a moral lapse a close secret.\n",
      " (4) A has committed a crime but has never fallen under suspicion. A’s guilty conscience handicaps him in the field of enterprise.\n",
      " (5) A commits a transgression and escapes unsuspected. A, committing a transgression and escaping unsuspected, is so tortured by conscience that he has to give himself up and confess.\n",
      " (6) A discovers that B, supposed to have committed suicide, was really murdered.\n",
      " (7) A seeks to achieve emancipation from a fear which dogs his life, shows in his face and manner, and plunges him into misfortune.\n",
      " (8) A, in a desperate mental conflict with a superstitious obsession, succeeds in scoring a victory for sense and reason—all by his own unaided powers.\n"
     ]
    }
   ],
   "source": [
    "storyline.expand_story(steps=-2, from_segment = 2)\n",
    "storyline.print_story(index=True)"
   ]
  },
  {
   "cell_type": "code",
   "execution_count": 7,
   "metadata": {},
   "outputs": [
    {
     "ename": "NameError",
     "evalue": "name 'np' is not defined",
     "output_type": "error",
     "traceback": [
      "\u001b[1;31m---------------------------------------------------------------------------\u001b[0m",
      "\u001b[1;31mNameError\u001b[0m                                 Traceback (most recent call last)",
      "\u001b[1;32m<ipython-input-7-f9cad97eff5d>\u001b[0m in \u001b[0;36m<module>\u001b[1;34m()\u001b[0m\n\u001b[1;32m----> 1\u001b[1;33m \u001b[0mnp\u001b[0m\u001b[1;33m.\u001b[0m\u001b[0msign\u001b[0m\u001b[1;33m(\u001b[0m\u001b[1;36m3\u001b[0m\u001b[1;33m)\u001b[0m\u001b[1;33m\u001b[0m\u001b[0m\n\u001b[0m",
      "\u001b[1;31mNameError\u001b[0m: name 'np' is not defined"
     ]
    }
   ],
   "source": [
    "np.sign(3)"
   ]
  },
  {
   "cell_type": "code",
   "execution_count": 4,
   "metadata": {},
   "outputs": [
    {
     "name": "stdout",
     "output_type": "stream",
     "text": [
      "My story\n",
      "\n",
      "An Erring Person, seeking by craftiness to escape misfortune, makes the supreme sacrifice in carrying out an undertaking., \b\b\n",
      "\n",
      "\n",
      " (0) A is aware that A-8 knows too much for his (A’s) good. A gives A-8 money with which to take himself out of the country.\n",
      " (1) A seeks craftily to keep the good opinion of the public. A closely guards an evil secret which, if known, would reflect upon his character and make impossible a cherished enterprise.\n",
      " (2) A has committed a crime but has never fallen under suspicion. A’s guilty conscience handicaps him in the field of enterprise.\n"
     ]
    }
   ],
   "source": [
    "storyline.expand_story(steps=\"+\")\n",
    "    \n",
    "storyline.print_story(index=True)"
   ]
  },
  {
   "cell_type": "code",
   "execution_count": 6,
   "metadata": {},
   "outputs": [
    {
     "data": {
      "text/plain": [
       "2"
      ]
     },
     "execution_count": 6,
     "metadata": {},
     "output_type": "execute_result"
    }
   ],
   "source": [
    "storyline.add_conflict_to_story(from_segment = None, direction = \"+\")"
   ]
  },
  {
   "cell_type": "code",
   "execution_count": 2,
   "metadata": {},
   "outputs": [
    {
     "name": "stdout",
     "output_type": "stream",
     "text": [
      "My story\n",
      "\n",
      "An Erring Person, seeking by craftiness to escape misfortune, makes the supreme sacrifice in carrying out an undertaking., \b\b\n",
      "\n",
      "\n",
      " (0) A is aware that A-8 knows too much for his (A’s) good. A gives A-8 money with which to take himself out of the country.\n",
      " (1) A seeks craftily to keep the good opinion of the public. A closely guards an evil secret which, if known, would reflect upon his character and make impossible a cherished enterprise.\n",
      " (2) A has committed a crime but has never fallen under suspicion. A’s guilty conscience handicaps him in the field of enterprise.\n",
      " (3) A seeks to achieve emancipation from a fear which dogs his life, shows in his face and manner, and plunges him into misfortune.\n",
      " (4) A, in a desperate mental conflict with a superstitious obsession, succeeds in scoring a victory for sense and reason—all by his own unaided powers.\n"
     ]
    }
   ],
   "source": [
    "storyline = Storyline(soup, {}, \"My story\")\n",
    "[storyline.get_clause(letter) for letter in [\"A\", \"B\", \"C\"]]\n",
    "\n",
    "for i in range(5):\n",
    "    storyline.expand_story()\n",
    "    \n",
    "storyline.print_story(index=True)"
   ]
  },
  {
   "cell_type": "code",
   "execution_count": 3,
   "metadata": {},
   "outputs": [
    {
     "name": "stdout",
     "output_type": "stream",
     "text": [
      "My story\n",
      "\n",
      "An Erring Person, seeking by craftiness to escape misfortune, makes the supreme sacrifice in carrying out an undertaking., \b\b\n",
      "\n",
      "\n",
      " (0) Claudius is aware that Hamlet knows too much for his (A’s) good. Claudius gives Hamlet money with which to take himself out of the country.\n",
      " (1) Claudius seeks craftily to keep the good opinion of the public. Claudius closely guards an evil secret which, if known, would reflect upon his character and make impossible a cherished enterprise.\n",
      " (2) Claudius seeks to overcome personal limitations in an honest enterprise by a resort to dishonest methods.\n",
      " (3) Claudius, in need of money to finance an enterprise, holds up a stage. Claudius, robbing a stage, discovers that B, who knows and recognizes him, is one of the passengers.\n"
     ]
    }
   ],
   "source": [
    "storyline.remove_segment(2,-1)\n",
    "storyline.add_character(\"A\", \"Claudius\")\n",
    "storyline.add_character(\"A-8\", \"Hamlet\")\n",
    "for i in range(2): storyline.expand_story()\n",
    "storyline.print_story(index=True)"
   ]
  },
  {
   "cell_type": "code",
   "execution_count": 5,
   "metadata": {},
   "outputs": [
    {
     "name": "stdout",
     "output_type": "stream",
     "text": [
      "My story\n",
      "\n",
      "An Erring Person, seeking by craftiness to escape misfortune, makes the supreme sacrifice in carrying out an undertaking., \b\b\n",
      "\n",
      "\n",
      " (0) Claudius, in need of money to finance an enterprise, holds up a taxi. Claudius, robbing a taxi, discovers that Hamlet, who knows and recognizes him, is one of the passengers.\n",
      " (1) Claudius is aware that Hamlet knows too much for his (A’s) good. Claudius gives Hamlet money with which to take himself out of the country.\n",
      " (2) Claudius seeks craftily to keep the good opinion of the public. Claudius closely guards an evil secret which, if known, would reflect upon his character and make impossible a cherished enterprise.\n",
      " (3) Claudius seeks to overcome personal limitations in an honest enterprise by a resort to dishonest methods.\n"
     ]
    }
   ],
   "source": [
    "storyline.story[-1].edit_plain_text(\"stage\", \"taxi\")\n",
    "storyline.modify_transforms(\"B\", \"A-8\", 3,3)\n",
    "storyline.move_segment(3,0)\n",
    "storyline.print_story(index=True)"
   ]
  },
  {
   "cell_type": "code",
   "execution_count": 6,
   "metadata": {},
   "outputs": [
    {
     "name": "stdout",
     "output_type": "stream",
     "text": [
      "My story\n",
      "\n",
      "An Erring Person, seeking by craftiness to escape misfortune, makes the supreme sacrifice in carrying out an undertaking., \b\b\n",
      "\n",
      "\n",
      "Claudius, in need of money to finance an enterprise, holds up a stage. Claudius, robbing a stage, discovers that Hamlet, who knows and recognizes him, is one of the passengers.\n",
      "Claudius is aware that Hamlet knows too much for his (A’s) good. Claudius gives Hamlet money with which to take himself out of the country.\n",
      "Claudius seeks craftily to keep the good opinion of the public. Claudius closely guards an evil secret which, if known, would reflect upon his character and make impossible a cherished enterprise.\n",
      "Claudius seeks to overcome personal limitations in an honest enterprise by a resort to dishonest methods.\n"
     ]
    }
   ],
   "source": [
    "storyline.story[0].clear_plain_text_editing()\n",
    "storyline.print_story()"
   ]
  },
  {
   "cell_type": "code",
   "execution_count": 7,
   "metadata": {},
   "outputs": [
    {
     "data": {
      "text/plain": [
       "<carry-ons>\n",
       "<group mode=\"choose\">\n",
       "<conflict-link category=\"Enterprise\" ref=\"628\" subcategory=\"Misfortune\"></conflict-link>\n",
       "</group>\n",
       "<group mode=\"choose\">\n",
       "<conflict-link category=\"Enterprise\" ref=\"1080\" subcategory=\"Personal Limitations\"></conflict-link>\n",
       "</group>\n",
       "<group mode=\"choose\">\n",
       "<conflict-link category=\"Enterprise\" ref=\"1084\" subcategory=\"Personal Limitations\"></conflict-link>\n",
       "</group>\n",
       "</carry-ons>"
      ]
     },
     "execution_count": 7,
     "metadata": {},
     "output_type": "execute_result"
    }
   ],
   "source": [
    "storyline.story[-1].links_f"
   ]
  },
  {
   "cell_type": "code",
   "execution_count": 22,
   "metadata": {},
   "outputs": [
    {
     "name": "stdout",
     "output_type": "stream",
     "text": [
      "My story\n",
      "\n",
      "An Erring Person, seeking by craftiness to escape misfortune, makes the supreme sacrifice in carrying out an undertaking., \b\b\n",
      "\n",
      "\n",
      "Romeo, in need of money to finance an enterprise, holds up a stage. Romeo, robbing a stage, discovers that Hamlet, who knows and recognizes him, is one of the passengers.\n",
      "Claudius is aware that Hamlet knows too much for his (A’s) good. Claudius gives Hamlet money with which to take himself out of the country.\n",
      "Claudius seeks craftily to keep the good opinion of the public. Claudius closely guards an evil secret which, if known, would reflect upon his character and make impossible a cherished enterprise.\n",
      "Romeo seeks to overcome personal limitations in an honest enterprise by a resort to dishonest methods.\n"
     ]
    }
   ],
   "source": [
    "storyline.characters = {key:key for key in storyline.characters}\n",
    "storyline.print_story()"
   ]
  },
  {
   "cell_type": "code",
   "execution_count": 21,
   "metadata": {},
   "outputs": [
    {
     "data": {
      "text/plain": [
       "{}"
      ]
     },
     "execution_count": 21,
     "metadata": {},
     "output_type": "execute_result"
    }
   ],
   "source": [
    "storyline.characters"
   ]
  },
  {
   "cell_type": "code",
   "execution_count": 13,
   "metadata": {},
   "outputs": [
    {
     "data": {
      "text/plain": [
       "{}"
      ]
     },
     "execution_count": 13,
     "metadata": {},
     "output_type": "execute_result"
    }
   ],
   "source": [
    "storyline.story[0].characters"
   ]
  },
  {
   "cell_type": "code",
   "execution_count": 10,
   "metadata": {},
   "outputs": [
    {
     "data": {
      "text/plain": [
       "'A, a reporter, assigned to “cover” a certain story and finding it impossible, decides to write up an imaginary interview, pretending it is bona fide.'"
      ]
     },
     "execution_count": 10,
     "metadata": {},
     "output_type": "execute_result"
    }
   ],
   "source": [
    "Conflict(soup, \"1080\", [],{},{}).plain_text"
   ]
  },
  {
   "cell_type": "code",
   "execution_count": 16,
   "metadata": {},
   "outputs": [
    {
     "name": "stdout",
     "output_type": "stream",
     "text": [
      "My story\n",
      "\n",
      "An Erring Person, seeking by craftiness to escape misfortune, makes the supreme sacrifice in carrying out an undertaking., \b\b\n",
      "\n",
      "\n",
      "Romeo, in need of money to finance an enterprise, holds up a stage. Romeo, robbing a stage, discovers that Hamlet, who knows and recognizes him, is one of the passengers.\n",
      "Claudius is aware that Hamlet knows too much for his (A’s) good. Claudius gives Hamlet money with which to take himself out of the country.\n",
      "Claudius seeks craftily to keep the good opinion of the public. Claudius closely guards an evil secret which, if known, would reflect upon his character and make impossible a cherished enterprise.\n",
      "Romeo seeks to overcome personal limitations in an honest enterprise by a resort to dishonest methods.\n"
     ]
    }
   ],
   "source": [
    "storyline.story[0].characters = {\"A\":\"Romeo\"}\n",
    "storyline.print_story()"
   ]
  },
  {
   "cell_type": "code",
   "execution_count": null,
   "metadata": {
    "collapsed": true
   },
   "outputs": [],
   "source": []
  },
  {
   "cell_type": "code",
   "execution_count": 4,
   "metadata": {},
   "outputs": [
    {
     "data": {
      "text/plain": [
       "1"
      ]
     },
     "execution_count": 4,
     "metadata": {},
     "output_type": "execute_result"
    }
   ],
   "source": [
    "1"
   ]
  },
  {
   "cell_type": "code",
   "execution_count": null,
   "metadata": {
    "collapsed": true
   },
   "outputs": [],
   "source": []
  }
 ],
 "metadata": {
  "kernelspec": {
   "display_name": "Python 3",
   "language": "python",
   "name": "python3"
  },
  "language_info": {
   "codemirror_mode": {
    "name": "ipython",
    "version": 3
   },
   "file_extension": ".py",
   "mimetype": "text/x-python",
   "name": "python",
   "nbconvert_exporter": "python",
   "pygments_lexer": "ipython3",
   "version": "3.4.5"
  }
 },
 "nbformat": 4,
 "nbformat_minor": 2
}
